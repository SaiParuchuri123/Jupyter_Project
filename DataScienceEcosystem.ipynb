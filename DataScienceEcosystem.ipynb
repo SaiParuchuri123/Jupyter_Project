{
 "cells": [
  {
   "cell_type": "markdown",
   "id": "4f3eefbe-2f51-4b9c-8c50-bdf9329f219a",
   "metadata": {},
   "source": [
    "<center>\n",
    "    <img src=\"https://cf-courses-data.s3.us.cloud-object-storage.appdomain.cloud/IBMDeveloperSkillsNetwork-DS0105EN-SkillsNetwork/labs/Module2/images/SN_web_lightmode.png\" width=\"300\" alt=\"cognitiveclass.ai logo\">\n",
    "</center>\n"
   ]
  },
  {
   "cell_type": "markdown",
   "id": "c95136e6-061e-4d6c-88b8-114930014f3e",
   "metadata": {},
   "source": [
    "#### Add your code below following the instructions given in the course"
   ]
  },
  {
   "cell_type": "markdown",
   "id": "b7167112-75b3-4085-ac9c-71110002550b",
   "metadata": {},
   "source": [
    "# Data Science Tools and Ecosystem"
   ]
  },
  {
   "cell_type": "markdown",
   "id": "75d62b63-410f-4efe-93c0-0c09697c7ae9",
   "metadata": {},
   "source": [
    "## Author\n",
    "Paruchuri Sai"
   ]
  },
  {
   "cell_type": "markdown",
   "id": "7587c3e9-c2ca-457a-98ae-456ff5e77961",
   "metadata": {},
   "source": [
    "## In this notebook, Data Science Tools and Ecosystem are summarized"
   ]
  },
  {
   "cell_type": "markdown",
   "id": "47d29e75-126a-4905-b8ff-4a7a29173b7a",
   "metadata": {},
   "source": [
    "### __Objectives__:\n",
    "+ List popular languages for Data Science\n",
    "+ List commonly used libraries for Data Science\n",
    "+ List popular Data Science Tools\n",
    "+ Evaluating arithmetic expressions using python\n"
   ]
  },
  {
   "cell_type": "markdown",
   "id": "203d8942-8d9d-48fe-b62c-f6dd421c7801",
   "metadata": {},
   "source": [
    "### Some of the popular languages that DataScientists use are:"
   ]
  },
  {
   "cell_type": "markdown",
   "id": "4e28a489-3b06-458e-8a3e-fe48747a1a68",
   "metadata": {},
   "source": [
    "1. Python\n",
    "2. R\n",
    "3. Sql\n",
    "4. Java"
   ]
  },
  {
   "cell_type": "markdown",
   "id": "daeeecf8-6b03-4eff-9e3d-920c613a6612",
   "metadata": {},
   "source": [
    "### Some of the commonly used libraries used by the Data Scientists include:"
   ]
  },
  {
   "cell_type": "markdown",
   "id": "d7eac41d-6276-45a0-b87e-0d0ad056d822",
   "metadata": {},
   "source": [
    "1. Tensorflow\n",
    "2. Keral\n",
    "3. Numpy\n",
    "4. Pandas\n",
    "5. Scikit-learn\n",
    "6. Pytorch"
   ]
  },
  {
   "cell_type": "markdown",
   "id": "2d5d5f59-2017-4a3b-a965-5d5744132396",
   "metadata": {},
   "source": [
    "|Data Science Tools|\n",
    "|------|\n",
    "|Jupyter |\n",
    "|R studios|\n",
    "|Visual Studio code|\n",
    "|Spyder|"
   ]
  },
  {
   "cell_type": "markdown",
   "id": "8abb54e6-4e5d-46ff-98be-21c91268dd0e",
   "metadata": {},
   "source": [
    "### Below are a few examples of evaluating arithmetic expressions using python"
   ]
  },
  {
   "cell_type": "code",
   "execution_count": 17,
   "id": "a7c5f9b7-c27a-4c74-8053-080d1353cb46",
   "metadata": {},
   "outputs": [
    {
     "data": {
      "text/plain": [
       "17"
      ]
     },
     "execution_count": 17,
     "metadata": {},
     "output_type": "execute_result"
    }
   ],
   "source": [
    "(3*4)+5\n",
    "# This is a simple arithmetic expression to multiply then add integers."
   ]
  },
  {
   "cell_type": "code",
   "execution_count": 23,
   "id": "6ec0f223-fd7f-46a5-90af-015681c46a20",
   "metadata": {},
   "outputs": [
    {
     "data": {
      "text/plain": [
       "3.3333333333333335"
      ]
     },
     "execution_count": 23,
     "metadata": {},
     "output_type": "execute_result"
    }
   ],
   "source": [
    "200/60\n",
    "# This will convert 200 minutes to hours by dividing with 60"
   ]
  },
  {
   "cell_type": "code",
   "execution_count": null,
   "id": "3f8041a6-e596-4d18-bb17-3ae3ad891a01",
   "metadata": {},
   "outputs": [],
   "source": []
  }
 ],
 "metadata": {
  "kernelspec": {
   "display_name": "Python [conda env:base] *",
   "language": "python",
   "name": "conda-base-py"
  },
  "language_info": {
   "codemirror_mode": {
    "name": "ipython",
    "version": 3
   },
   "file_extension": ".py",
   "mimetype": "text/x-python",
   "name": "python",
   "nbconvert_exporter": "python",
   "pygments_lexer": "ipython3",
   "version": "3.12.7"
  }
 },
 "nbformat": 4,
 "nbformat_minor": 5
}
